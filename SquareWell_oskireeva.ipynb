{
  "nbformat": 4,
  "nbformat_minor": 0,
  "metadata": {
    "kernelspec": {
      "display_name": "Python 3",
      "language": "python",
      "name": "python3"
    },
    "language_info": {
      "codemirror_mode": {
        "name": "ipython",
        "version": 3
      },
      "file_extension": ".py",
      "mimetype": "text/x-python",
      "name": "python",
      "nbconvert_exporter": "python",
      "pygments_lexer": "ipython3",
      "version": "3.8.3"
    },
    "colab": {
      "name": "SquareWell_oskireeva",
      "provenance": []
    }
  },
  "cells": [
    {
      "cell_type": "markdown",
      "metadata": {
        "id": "wO-WOdgm5zr2"
      },
      "source": [
        "Before you turn this problem in, make sure everything runs as expected. First, **restart the kernel** (in the menubar, select Kernel$\\rightarrow$Restart) and then **run all cells** (in the menubar, select Cell$\\rightarrow$Run All).\n",
        "\n",
        "Make sure you fill in any place that says `YOUR CODE HERE` or \"YOUR ANSWER HERE\", as well as your name and collaborators below:"
      ]
    },
    {
      "cell_type": "code",
      "metadata": {
        "id": "NhVjO9W65zsA"
      },
      "source": [
        "NAME = \"\"\n",
        "COLLABORATORS = \"\""
      ],
      "execution_count": 1,
      "outputs": []
    },
    {
      "cell_type": "markdown",
      "metadata": {
        "id": "F478gEpk5zsC"
      },
      "source": [
        "---"
      ]
    },
    {
      "cell_type": "code",
      "metadata": {
        "deletable": false,
        "editable": false,
        "nbgrader": {
          "cell_type": "code",
          "checksum": "91b44f5d2ffaa2a93b4847cf1b9a93bf",
          "grade": false,
          "grade_id": "cell-fd9a8a256ce96e0b",
          "locked": true,
          "schema_version": 3,
          "solution": false,
          "task": false
        },
        "id": "PSoo8V2R5zsC"
      },
      "source": [
        "import numpy as np\n",
        "import matplotlib.pyplot as plt"
      ],
      "execution_count": 2,
      "outputs": []
    },
    {
      "cell_type": "markdown",
      "metadata": {
        "deletable": false,
        "editable": false,
        "nbgrader": {
          "cell_type": "markdown",
          "checksum": "36d083da872978b918dc7c258c4ce0a2",
          "grade": false,
          "grade_id": "cell-360083120ef5ab52",
          "locked": true,
          "schema_version": 3,
          "solution": false,
          "task": false
        },
        "id": "BsFLQhaq5zsD"
      },
      "source": [
        "# 1D square well\n",
        "\n",
        "Consider a quantum particle, described by the wave function $\\psi(x)$ moving in an external potential $V(x)$.\n",
        "For simplicity, only consider a one-dimensional real variable $x$.\n",
        "\n",
        "The wave function of a particle obeys the Schoedinger equation\n",
        "\n",
        "\n",
        "$$\n",
        "-\\frac{\\hbar^2}{2m} \\psi''(x)  + V(x)\\psi(x) = E\\psi(x)\\;.\n",
        "$$\n",
        "\n",
        "Here $\\hbar$ is the Planck's constant, $m$ is the mass of the particle (both are known), and $E$ is the energy of the particle.\n",
        "\n",
        "Given boundary conditions, the non-zero solution for $\\psi(x)$ _only exists for some values of the energies_. Physisists say that the energy of a particle is _quantized_. Mathematicians say that the problem is nothing but the eigenvalue problem of the Sturm-Liouville operator\n",
        "\n",
        "\n",
        "$$\n",
        "L = -\\frac{\\hbar^2}{2m}\\frac{d^2}{dx^2} + V(x) \\;.\n",
        "$$\n",
        "\n",
        "\n",
        "Here we consider the so-called square well potential, \n",
        "\n",
        "$$\n",
        "V(x) = %\n",
        "\\begin{cases}\n",
        "&0, &0 < x < a \\\\\n",
        "&\\infty, &\\text{otherwise.} \n",
        "\\end{cases}\n",
        "$$\n",
        "\n",
        "Define\n",
        "$$\n",
        "E = \\frac{\\hbar^2}{2m} k^2\n",
        "$$\n",
        "\n",
        "The Schroedinger equation for $0 < x < a$ becomes\n",
        "\n",
        "$$\n",
        "\\psi''(x) = -k^2 \\psi(x)\n",
        "$$\n",
        "\n",
        "with the boundary conditions $\\psi(0) = \\psi(a) = 0$.\n",
        "\n",
        "Solutions are\n",
        "\n",
        "$$\\psi_n(x) = \\sqrt{\\frac{2}{a}} \\sin{k_n x}$$\n",
        "\n",
        "\n",
        "with\n",
        "\n",
        "$$\n",
        "k_n a = \\pi n\\;, \\qquad n = 1, 2, \\cdots\n",
        "$$\n",
        "\n",
        "So that the eigenenergies are\n",
        "\n",
        "$$\n",
        "E_n = \\frac{\\pi^2\\hbar^2}{2ma^2} n^2\n",
        "$$"
      ]
    },
    {
      "cell_type": "markdown",
      "metadata": {
        "deletable": false,
        "editable": false,
        "nbgrader": {
          "cell_type": "markdown",
          "checksum": "f4c0370367e65c567de8f967a60cf9f1",
          "grade": false,
          "grade_id": "cell-3be39ca2ce355116",
          "locked": true,
          "schema_version": 3,
          "solution": false,
          "task": false
        },
        "id": "-Um9s3Mr5zsE"
      },
      "source": [
        "## Eigenfunctions, numerically\n",
        "\n",
        "Define a mesh\n",
        "\n",
        "$$x_j = a \\frac{j}{N}, \\qquad j=0, \\cdots, N\n",
        "$$\n",
        "\n",
        "and the mesh function $\\psi_j$.\n",
        "\n",
        "The Schroedinger equation becomes\n",
        "\n",
        "$$\n",
        "\\psi_{j-1} + \\psi_{j+1} - 2\\psi_{j} = -k^2 h^2 \\psi_j \\; , \\qquad j = 1, \\cdots, N-1\n",
        "$$\n",
        "\n",
        "where $h=a/N$ is the grid spacing, and the boundary conditions are $\\psi_0 = \\psi_N = 0$.\n",
        "\n",
        "Note that the last equation defines the eigenvalue problem in the $N-1$ dimensional space spanned by vectors $(\\psi_1, \\psi_2, \\cdots, \\psi_{N-1})^T$. Here the matrix, whose eigenvalues we are looking for, is tridiagonal, and the allowed values of $(k h)^2$ are its eigenvalues."
      ]
    },
    {
      "cell_type": "markdown",
      "metadata": {
        "deletable": false,
        "editable": false,
        "nbgrader": {
          "cell_type": "markdown",
          "checksum": "a2df2d5d96118994f5d948a2ba03d48a",
          "grade": false,
          "grade_id": "cell-eab0189cf5a42ef7",
          "locked": true,
          "schema_version": 3,
          "solution": false,
          "task": false
        },
        "id": "tDrJpZVB5zsE"
      },
      "source": [
        "Write the function that returns the matrix for the eigenvalue problem above.\n",
        "\n",
        "The numpy function `np.fill_diagonal` may be handy. Also note that to fill sub- and superdiagonals, you may slice the matrix, like so: `a[1:, :]`."
      ]
    },
    {
      "cell_type": "code",
      "metadata": {
        "deletable": false,
        "nbgrader": {
          "cell_type": "code",
          "checksum": "bacf9dd2dd478286af59b035e3a9195d",
          "grade": false,
          "grade_id": "cell-aafe722b76d0a6b5",
          "locked": false,
          "schema_version": 3,
          "solution": true,
          "task": false
        },
        "id": "ZyYYZ8AU5zsF"
      },
      "source": [
        "from numpy.testing import assert_allclose\n",
        "def hamiltonian(npts):\n",
        "    \"\"\"Construct the eigenvalue matrix for the discretized 1D Schroedinger equation.\n",
        "    \n",
        "    Parameters\n",
        "    ----------\n",
        "    npts : int\n",
        "        The number of nodes in the mesh: $x_j = a*j /npts$, with $j=0, ..., npts$\n",
        "        \n",
        "    Returns\n",
        "    -------\n",
        "    ham : ndarray, shape(npts-1, npts-1)\n",
        "        The matrix of the mesh version of the Sturm-Liouville operator.\n",
        "    \"\"\"\n",
        "    matr = np.zeros((npts - 1, npts - 1))\n",
        "    np.fill_diagonal(matr[1:, :], -1)\n",
        "    np.fill_diagonal(matr[:, 1:], -1)\n",
        "    np.fill_diagonal(matr, 2)\n",
        "    return matr"
      ],
      "execution_count": 3,
      "outputs": []
    },
    {
      "cell_type": "code",
      "metadata": {
        "deletable": false,
        "editable": false,
        "nbgrader": {
          "cell_type": "code",
          "checksum": "b0842cacc7a28a0924559ccb04029f08",
          "grade": true,
          "grade_id": "cell-b55c38e4cbf73e1f",
          "locked": true,
          "points": 2,
          "schema_version": 3,
          "solution": false,
          "task": false
        },
        "id": "At_yLSR25zsF"
      },
      "source": [
        "N = 20\n",
        "ham = hamiltonian(N)\n",
        "assert ham.shape == (N-1, N-1)\n"
      ],
      "execution_count": 4,
      "outputs": []
    },
    {
      "cell_type": "markdown",
      "metadata": {
        "deletable": false,
        "editable": false,
        "nbgrader": {
          "cell_type": "markdown",
          "checksum": "14ba815e9347bd765d8bc113fdd3bc45",
          "grade": false,
          "grade_id": "cell-e3c64f6e9d4d3f08",
          "locked": true,
          "schema_version": 3,
          "solution": false,
          "task": false
        },
        "id": "Ujrks3k65zsG"
      },
      "source": [
        "### Solve the eigenvalue problem\n",
        "\n",
        "Write a function which returns the eigenvalues and eigenvectors of the discretized hamiltonian given the number of the mesh points,."
      ]
    },
    {
      "cell_type": "code",
      "metadata": {
        "deletable": false,
        "nbgrader": {
          "cell_type": "code",
          "checksum": "5a71c474c81a82dbbdea3b353ff9f026",
          "grade": false,
          "grade_id": "cell-c338c12b8b0ff65f",
          "locked": false,
          "schema_version": 3,
          "solution": true,
          "task": false
        },
        "id": "5rzeWi4G5zsG"
      },
      "source": [
        "def eigensystem(N):\n",
        "    \"\"\"Construct the Hamiltonian on a mesh and compute its eigenvalues and eigenvectors.\n",
        "    \n",
        "    Return eigenvalues in the sorted order.\n",
        "    \n",
        "    Parameters\n",
        "    ----------\n",
        "    N : int\n",
        "        The number of nodes in the mesh: $x_j = a*j /N$, with $j=0, ..., N$.\n",
        "        \n",
        "    Returns\n",
        "    -------\n",
        "    vals : ndarray, shape(N-1,)\n",
        "        Eigenvalues, in the ascending order.\n",
        "        \n",
        "    vects : ndarray, shape(N-1, N-1)\n",
        "        Eigenvectors arranged in columns: `vect[:, j]` is the \n",
        "        normalized eigenvector corresponding to `vals[j]`.\n",
        "    \"\"\"\n",
        "    H = hamiltonian(N)\n",
        "    return np.linalg.eigh(H)"
      ],
      "execution_count": 5,
      "outputs": []
    },
    {
      "cell_type": "code",
      "metadata": {
        "deletable": false,
        "editable": false,
        "nbgrader": {
          "cell_type": "code",
          "checksum": "c1bda7f7635564873a459c2c52d3d43a",
          "grade": true,
          "grade_id": "cell-79dc8ca40332b3cb",
          "locked": true,
          "points": 3,
          "schema_version": 3,
          "solution": false,
          "task": false
        },
        "id": "AhdpybZU5zsH"
      },
      "source": [
        "N = 10\n",
        "ham = hamiltonian(10)\n",
        "vals, vects = eigensystem(10)\n",
        "\n",
        "assert (vals[1:] >= vals[:-1]).all()\n",
        "\n",
        "for j in range(vals.shape[0]):\n",
        "    assert_allclose(ham @ vects[:, j],\n",
        "                    vals[j] * vects[:, j], atol=1e-10)\n"
      ],
      "execution_count": 6,
      "outputs": []
    },
    {
      "cell_type": "markdown",
      "metadata": {
        "deletable": false,
        "editable": false,
        "nbgrader": {
          "cell_type": "markdown",
          "checksum": "47109e851f5975efda56be32e8b89e64",
          "grade": false,
          "grade_id": "cell-af0f96f6ffa29419",
          "locked": true,
          "schema_version": 3,
          "solution": false,
          "task": false
        },
        "id": "GsdW0y285zsH"
      },
      "source": [
        "### Long-wavelength limit of the FD problem\n",
        "\n",
        "We expect that in the limit of $N\\to\\infty$ solutions of the discretized system tends to the solution of the continuous problem. \n",
        "\n",
        "Plot the spectrum of the FD problem for several values of $N$. Note that the spectrum is bounded, i.e. we can only hope that low-lying eigenstates match: for large enough $N$, several first eigenstates of the FD problem are close to the corresponding eigenstates of the continuous problem. (See e.g. A.A. Samarski and A.V. Gulin, Sec 1.4.4 for details)"
      ]
    },
    {
      "cell_type": "code",
      "metadata": {
        "colab": {
          "base_uri": "https://localhost:8080/",
          "height": 265
        },
        "id": "M7VogtNq5zsJ",
        "outputId": "9d8e5932-13a6-4b51-d7f8-2f311ef3e713"
      },
      "source": [
        "# Plot the spectrum of the FD problem for several values of N. \n",
        "for k in range(1, 11):\n",
        "    n = 400 * k\n",
        "    val, _ = eigensystem(n)\n",
        "    plt.plot(np.sqrt(val) * n, label=n)\n",
        "plt.plot(np.pi*np.arange(1, n), label=\"original\")\n",
        "plt.legend(loc='best')\n",
        "plt.show()\n",
        "# Plot the spectrum of the continuous problem on the same plot.\n"
      ],
      "execution_count": 7,
      "outputs": [
        {
          "output_type": "display_data",
          "data": {
            "image/png": "[encoded data removed]",
            "text/plain": [
              "<Figure size 432x288 with 1 Axes>"
            ]
          },
          "metadata": {
            "tags": [],
            "needs_background": "light"
          }
        }
      ]
    },
    {
      "cell_type": "markdown",
      "metadata": {
        "id": "vUzHtszf5zsK"
      },
      "source": [
        "The values we get as eigenvalues are $\\lambda_i = k_i^2 h^2$, where $h = \\dfrac{a}{N}$ ($a$ is assumed to be 1)\n",
        "\n",
        "So to get $k_i$ itself we should $\\sqrt{\\lambda_i} * N$\n",
        "\n",
        "Analytically $k_n = \\pi * n$"
      ]
    },
    {
      "cell_type": "markdown",
      "metadata": {
        "deletable": false,
        "editable": false,
        "nbgrader": {
          "cell_type": "markdown",
          "checksum": "d2f18c2cfac976eecdbe76666433b0e5",
          "grade": false,
          "grade_id": "cell-79c6a06c54de6b6d",
          "locked": true,
          "schema_version": 3,
          "solution": false,
          "task": false
        },
        "id": "9n1qG1RC5zsK"
      },
      "source": [
        "Make the function in the cell below return a value of $N$ such that the first 10 eigenvalues of the FD problem and the continuous problem match within the relative tolerance of $10^{-3}$."
      ]
    },
    {
      "cell_type": "code",
      "metadata": {
        "deletable": false,
        "nbgrader": {
          "cell_type": "code",
          "checksum": "659a5a6782f439c6ec7fa427929c7ab1",
          "grade": false,
          "grade_id": "cell-a0dccf755c881b94",
          "locked": false,
          "schema_version": 3,
          "solution": true,
          "task": false
        },
        "id": "M0k78qD25zsL"
      },
      "source": [
        "def get_large_N():\n",
        "    N = 100\n",
        "    n = 10\n",
        "    eig_origin = np.pi*np.arange(1, n + 1)\n",
        "    eig_comp = np.sqrt(eigensystem(N)[0][:n]) * N\n",
        "    while not np.allclose(eig_comp, eig_origin, rtol=1e-3):\n",
        "        N += 100\n",
        "        eig_comp = np.sqrt(eigensystem(N)[0][:n]) * N\n",
        "    return N    "
      ],
      "execution_count": 8,
      "outputs": []
    },
    {
      "cell_type": "code",
      "metadata": {
        "colab": {
          "base_uri": "https://localhost:8080/"
        },
        "id": "b6VxIXkk5zsL",
        "outputId": "dcee8e94-4964-4a2a-fe50-e1ef519a513a"
      },
      "source": [
        "get_large_N()"
      ],
      "execution_count": 9,
      "outputs": [
        {
          "output_type": "execute_result",
          "data": {
            "text/plain": [
              "300"
            ]
          },
          "metadata": {
            "tags": []
          },
          "execution_count": 9
        }
      ]
    },
    {
      "cell_type": "code",
      "metadata": {
        "deletable": false,
        "editable": false,
        "nbgrader": {
          "cell_type": "code",
          "checksum": "de871b4813132a85195ec6678c66ddcf",
          "grade": true,
          "grade_id": "cell-d85b44c5d92936e0",
          "locked": true,
          "points": 6,
          "schema_version": 3,
          "solution": false,
          "task": false
        },
        "id": "HkCOsbyA5zsL"
      },
      "source": [
        "NN = get_large_N()\n",
        "\n",
        "vals, _ = eigensystem(NN)\n",
        "\n",
        "# the rest of this cell is a test which compares first 10 eigenvalues\n"
      ],
      "execution_count": 10,
      "outputs": []
    },
    {
      "cell_type": "markdown",
      "metadata": {
        "deletable": false,
        "editable": false,
        "nbgrader": {
          "cell_type": "markdown",
          "checksum": "6cc02a52faa32f2f9407012e912fb88c",
          "grade": false,
          "grade_id": "cell-4a4d614a4c80bf28",
          "locked": true,
          "schema_version": 3,
          "solution": false,
          "task": false
        },
        "id": "v6CVM03F5zsM"
      },
      "source": [
        "### Wave functions"
      ]
    },
    {
      "cell_type": "markdown",
      "metadata": {
        "deletable": false,
        "editable": false,
        "nbgrader": {
          "cell_type": "markdown",
          "checksum": "938ffede4f4e31402cdb7f7999c5de40",
          "grade": false,
          "grade_id": "cell-fd83c17823e931ad",
          "locked": true,
          "schema_version": 3,
          "solution": false,
          "task": false
        },
        "id": "Oe8ioIja5zsM"
      },
      "source": [
        "Plot the wave functions (i.e. eigenvectors) for several lowest eigenstates. Compare to expected form. How many zeros does the eigenfunction number $k$ have?"
      ]
    },
    {
      "cell_type": "code",
      "metadata": {
        "scrolled": false,
        "colab": {
          "base_uri": "https://localhost:8080/",
          "height": 1000
        },
        "id": "C3JDt1bq5zsM",
        "outputId": "d79d4cc6-eff2-4985-fdaa-05baf307c230"
      },
      "source": [
        "# plot the wave functions here\n",
        "N = get_large_N()\n",
        "grid = np.linspace(0, 1, N + 1)\n",
        "_, vecs = eigensystem(N)\n",
        "for i in range(5):\n",
        "    k_i = (i + 1) * np.pi\n",
        "    res = np.sqrt(2) * np.sin(k_i * grid)\n",
        "    plt.plot(grid, res)\n",
        "    plt.plot(grid, [0] + list(np.linalg.norm(res) * vecs[:, i]) + [0])\n",
        "    plt.show()"
      ],
      "execution_count": 11,
      "outputs": [
        {
          "output_type": "display_data",
          "data": {
            "image/png": "[encoded data removed]",
            "text/plain": [
              "<Figure size 432x288 with 1 Axes>"
            ]
          },
          "metadata": {
            "tags": [],
            "needs_background": "light"
          }
        },
        {
          "output_type": "display_data",
          "data": {
            "image/png": "[encoded data removed]",
            "text/plain": [
              "<Figure size 432x288 with 1 Axes>"
            ]
          },
          "metadata": {
            "tags": [],
            "needs_background": "light"
          }
        },
        {
          "output_type": "display_data",
          "data": {
            "image/png": "[encoded data removed]",
            "text/plain": [
              "<Figure size 432x288 with 1 Axes>"
            ]
          },
          "metadata": {
            "tags": [],
            "needs_background": "light"
          }
        },
        {
          "output_type": "display_data",
          "data": {
            "image/png": "[encoded data removed]",
            "text/plain": [
              "<Figure size 432x288 with 1 Axes>"
            ]
          },
          "metadata": {
            "tags": [],
            "needs_background": "light"
          }
        },
        {
          "output_type": "display_data",
          "data": {
            "image/png": "[encoded data removed]",
            "text/plain": [
              "<Figure size 432x288 with 1 Axes>"
            ]
          },
          "metadata": {
            "tags": [],
            "needs_background": "light"
          }
        }
      ]
    },
    {
      "cell_type": "markdown",
      "metadata": {
        "deletable": false,
        "editable": false,
        "nbgrader": {
          "cell_type": "markdown",
          "checksum": "63d19761c024ae3c603e5820ffe793ff",
          "grade": false,
          "grade_id": "cell-d0a5a2108321c342",
          "locked": true,
          "schema_version": 3,
          "solution": false,
          "task": false
        },
        "id": "iuzbZ1_t5zsN"
      },
      "source": [
        "# Perturbation\n",
        "\n",
        "Consider now the modified potential: add to the square well potential the additional term \n",
        "\n",
        "$$\n",
        "V(x) = -\\frac{\\hbar^2}{2m}\\, \\gamma\\, x(x-a)\n",
        "$$\n",
        "\n",
        "for $0 < x < a$, where $\\gamma$ is a constant.\n",
        "\n",
        "An analytic solution is no longer possible, but the numeric solution is a straightforward extension of what we did in the previous section."
      ]
    },
    {
      "cell_type": "markdown",
      "metadata": {
        "deletable": false,
        "editable": false,
        "nbgrader": {
          "cell_type": "markdown",
          "checksum": "45ffb8bcf1de11742dcb4f007d953876",
          "grade": false,
          "grade_id": "cell-65d49ff5520f5952",
          "locked": true,
          "schema_version": 3,
          "solution": false,
          "task": false
        },
        "id": "PB7dN-Va5zsN"
      },
      "source": [
        "## Numeric solution\n",
        "\n",
        "Again, define a grid function $\\psi_j$. The Schroedinger equation then becomes\n",
        "\n",
        "$$\n",
        "-\\left( \\psi_{j-1} + \\psi_{j+1} - 2\\psi_{j} \\right) - \\gamma h^2 x_j (x_j - a) \\psi_j = k^2 h^2 \\psi_j \\; , \\qquad j = 1, \\cdots, N-1\n",
        "$$\n",
        "\n",
        "so that the diagonal elements of the Hamiltonian matrix are no longer constants.\n",
        "\n",
        "Construct the hamiltonian matrix, solve for the eigenvalues and plot the ground state wave functions for a range of $\\gamma$. Discuss the structure of the wave function for $\\gamma > 500$."
      ]
    },
    {
      "cell_type": "code",
      "metadata": {
        "deletable": false,
        "nbgrader": {
          "cell_type": "code",
          "checksum": "a5f51202140acfac61f1320fcbdaff4b",
          "grade": false,
          "grade_id": "cell-f7dc2f611e4b19af",
          "locked": false,
          "schema_version": 3,
          "solution": true,
          "task": false
        },
        "id": "ULy7lmMJ5zsN"
      },
      "source": [
        "def hamiltonian_perturbed(gamma, npts):\n",
        "    \"\"\"Construct the eigenvalue matrix for the discretized 1D Schroedinger equation.\n",
        "    \n",
        "    Parameters\n",
        "    ----------\n",
        "    gamma : float\n",
        "        The extra potential is $gamma * x * (x-1)$\n",
        "    npts : int\n",
        "        The number of nodes in the mesh: $x_j = a*j /npts$, with $j=0, ..., npts$\n",
        "        \n",
        "    Returns\n",
        "    -------\n",
        "    ham : ndarray, shape(npts-1, npts-1)\n",
        "        The matrix of the mesh version of the Sturm-Liouville operator.\n",
        "    \"\"\"\n",
        "    x = np.arange(npts - 1) / (npts - 2)\n",
        "    h = 1 / (npts - 2)\n",
        "    matr = np.zeros((npts - 1, npts - 1))\n",
        "    np.fill_diagonal(matr[1:, :], -1)\n",
        "    np.fill_diagonal(matr[:, 1:], -1)\n",
        "    np.fill_diagonal(matr, 2 - gamma * h**2 * x * (x - 1))\n",
        "    return matr"
      ],
      "execution_count": 12,
      "outputs": []
    },
    {
      "cell_type": "code",
      "metadata": {
        "deletable": false,
        "editable": false,
        "nbgrader": {
          "cell_type": "code",
          "checksum": "32bbafba7b50af91a34974157e408c1d",
          "grade": true,
          "grade_id": "cell-ad4764121a24f8dc",
          "locked": true,
          "points": 4,
          "schema_version": 3,
          "solution": false,
          "task": false
        },
        "id": "ADEtm_Bq5zsP"
      },
      "source": [
        "gamma, N = 590, 11\n",
        "h = hamiltonian_perturbed(gamma, N)\n",
        "\n",
        "assert h.shape == (N-1, N-1)\n"
      ],
      "execution_count": 13,
      "outputs": []
    },
    {
      "cell_type": "code",
      "metadata": {
        "deletable": false,
        "nbgrader": {
          "cell_type": "code",
          "checksum": "07f88c901c4a91b916c64cf201d272ec",
          "grade": false,
          "grade_id": "cell-c6b6aa782bac0d62",
          "locked": false,
          "schema_version": 3,
          "solution": true,
          "task": false
        },
        "colab": {
          "base_uri": "https://localhost:8080/",
          "height": 265
        },
        "id": "gltl3iUx5zsP",
        "outputId": "3fbf4c2e-b63b-4513-d318-0afe7685c629"
      },
      "source": [
        "gamma, N = 400, 100\n",
        "h = hamiltonian_perturbed(gamma, N)\n",
        "\n",
        "_, vecs = np.linalg.eigh(h)\n",
        "plt.plot(np.arange(N + 1) / N, [0] + list(vecs[:, 0]) + [0])\n",
        "plt.show()"
      ],
      "execution_count": 14,
      "outputs": [
        {
          "output_type": "display_data",
          "data": {
            "image/png": "[encoded data removed]",
            "text/plain": [
              "<Figure size 432x288 with 1 Axes>"
            ]
          },
          "metadata": {
            "tags": [],
            "needs_background": "light"
          }
        }
      ]
    },
    {
      "cell_type": "markdown",
      "metadata": {
        "deletable": false,
        "editable": false,
        "nbgrader": {
          "cell_type": "markdown",
          "checksum": "4d52ce55d39ae5ebdc4660dd09184de3",
          "grade": false,
          "grade_id": "cell-3cfcd31b5b76539e",
          "locked": true,
          "schema_version": 3,
          "solution": false,
          "task": false
        },
        "id": "-RPoNd6g5zsQ"
      },
      "source": [
        "Bonus: discuss the structure of the spectrum at large $\\gamma$."
      ]
    },
    {
      "cell_type": "code",
      "metadata": {
        "id": "ere0h9bM5zsQ"
      },
      "source": [
        ""
      ],
      "execution_count": 14,
      "outputs": []
    }
  ]
}