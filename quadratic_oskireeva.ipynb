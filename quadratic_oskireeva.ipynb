{
  "nbformat": 4,
  "nbformat_minor": 0,
  "metadata": {
    "kernelspec": {
      "display_name": "Python 3",
      "language": "python",
      "name": "python3"
    },
    "language_info": {
      "codemirror_mode": {
        "name": "ipython",
        "version": 3
      },
      "file_extension": ".py",
      "mimetype": "text/x-python",
      "name": "python",
      "nbconvert_exporter": "python",
      "pygments_lexer": "ipython3",
      "version": "3.8.5"
    },
    "colab": {
      "name": "quadratic_oskireeva.ipynb",
      "provenance": [],
      "collapsed_sections": []
    }
  },
  "cells": [
    {
      "cell_type": "markdown",
      "metadata": {
        "id": "BLyqfmgPAEOB"
      },
      "source": [
        "Before you turn this problem in, make sure everything runs as expected. First, **restart the kernel** (in the menubar, select Kernel$\\rightarrow$Restart) and then **run all cells** (in the menubar, select Cell$\\rightarrow$Run All).\n",
        "\n",
        "Make sure you fill in any place that says `YOUR CODE HERE` or \"YOUR ANSWER HERE\", as well as your name and collaborators below:"
      ]
    },
    {
      "cell_type": "code",
      "metadata": {
        "id": "KRwRoTdUAEOH"
      },
      "source": [
        "NAME = \"\"\n",
        "COLLABORATORS = \"\""
      ],
      "execution_count": null,
      "outputs": []
    },
    {
      "cell_type": "markdown",
      "metadata": {
        "id": "YddmZ5AHAEOI"
      },
      "source": [
        "---"
      ]
    },
    {
      "cell_type": "markdown",
      "metadata": {
        "deletable": false,
        "editable": false,
        "nbgrader": {
          "cell_type": "markdown",
          "checksum": "74073e87d382d0355e85faeba52e8453",
          "grade": false,
          "grade_id": "cell-eb39a9ff603592f6",
          "locked": true,
          "schema_version": 3,
          "solution": false
        },
        "id": "K2MPGBwyAEOJ"
      },
      "source": [
        "Write a function which solves a quadratic equation, $x^2 + b x + c = 0$. Your function must receive two values for coefficients and return two real or complex roots. Always return two roots, even if the equation has a single double root. "
      ]
    },
    {
      "cell_type": "code",
      "metadata": {
        "deletable": false,
        "nbgrader": {
          "cell_type": "code",
          "checksum": "60c2d35c9cce948edb2dca582d5f63b5",
          "grade": false,
          "grade_id": "cell-2032efc64a327acc",
          "locked": false,
          "schema_version": 3,
          "solution": true
        },
        "id": "gFtF2CAaAEOJ"
      },
      "source": [
        "from math import sqrt\n",
        "from cmath import sqrt as c_sqrt\n",
        "\n",
        "def solve_quad(b, c):\n",
        "    ''' Parameters\n",
        "    ----------\n",
        "    b, c : float\n",
        "       Coefficients\n",
        "       \n",
        "    Returns\n",
        "    -------\n",
        "    x1, x2 : float or complex\n",
        "        Roots.\n",
        "    '''\n",
        "    def discriminant(b, c):\n",
        "      return b ** 2 - 4 * c\n",
        "    if b == 0 and c == 0:\n",
        "      return 0.0, 0.0 \n",
        "    if discriminant(b, c) == 0:\n",
        "      return (-b)/2, (-b)/2\n",
        "    if discriminant(b, c) <= 0:\n",
        "      if b < 0:\n",
        "        return (- b + c_sqrt(discriminant(b, c))) / 2, (2 * c) / (c_sqrt(discriminant(b, c)) - b)\n",
        "      else:\n",
        "        return - (2 * c) / (c_sqrt(discriminant(b, c))+b), ( - b - c_sqrt(discriminant(b, c))) / 2\n",
        "    else:\n",
        "      if b < 0:\n",
        "        return (- b + sqrt(discriminant(b, c))) / 2, (2 * c) / (sqrt(discriminant(b, c)) - b)\n",
        "      else:\n",
        "        return - (2 * c) / (sqrt(discriminant(b, c))+b), ( - b - sqrt(discriminant(b, c))) / 2"
      ],
      "execution_count": 20,
      "outputs": []
    },
    {
      "cell_type": "code",
      "metadata": {
        "deletable": false,
        "editable": false,
        "nbgrader": {
          "cell_type": "code",
          "checksum": "cba52b9e7e77f925b1f2fb3334a99b92",
          "grade": true,
          "grade_id": "cell-89cf7badb387b0e0",
          "locked": true,
          "points": 5,
          "schema_version": 3,
          "solution": false
        },
        "id": "nZHHHroPAEOK"
      },
      "source": [
        "#\n",
        "# Your implementation should pass tests in this cell.\n",
        "#\n",
        "# Do not remove or alter this cell. You may run it, but do not remove or alter it.\n",
        "# Your changes to this cell will be ignored on grading.\n",
        "# There will be additional tests.\n",
        "#\n",
        "from numpy.testing import assert_allclose\n",
        "\n",
        "variants = [{'b': 4.0, 'c': 3.0},\n",
        "            {'b': 2.0, 'c': 1.0},\n",
        "            {'b': 0.5, 'c': 4.0},\n",
        "            {'b': 1e10, 'c': 3.0},\n",
        "           ]\n",
        "\n",
        "for var in variants:\n",
        "    x1, x2 = solve_quad(**var)\n",
        "    assert_allclose(x1*x2, var['c'], rtol=1e-15)"
      ],
      "execution_count": 22,
      "outputs": []
    },
    {
      "cell_type": "code",
      "metadata": {
        "deletable": false,
        "editable": false,
        "nbgrader": {
          "cell_type": "code",
          "checksum": "5b5fc0da6dc8c015736ff9e557a54fd9",
          "grade": true,
          "grade_id": "cell-0970e4298cb77486",
          "locked": true,
          "points": 5,
          "schema_version": 3,
          "solution": false,
          "task": false
        },
        "id": "7ArEhTcBAEOK"
      },
      "source": [
        ""
      ],
      "execution_count": null,
      "outputs": []
    }
  ]
}